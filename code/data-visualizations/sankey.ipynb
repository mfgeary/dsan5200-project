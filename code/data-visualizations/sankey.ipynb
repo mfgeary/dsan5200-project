{
  "cells": [
    {
      "cell_type": "raw",
      "metadata": {},
      "source": [
        "---\n",
        "title: \"Sankey\"\n",
        "format: html\n",
        "---"
      ]
    },
    {
      "cell_type": "code",
      "execution_count": 75,
      "metadata": {},
      "outputs": [],
      "source": [
        "import plotly.graph_objects as go\n",
        "import json\n",
        "\n",
        "# Load the JSON data\n",
        "with open('sankey_data.json', 'r') as f:\n",
        "    json_data = json.load(f)\n",
        "\n",
        "# Initialize lists to store source, target, and value\n",
        "sources = []\n",
        "targets = []\n",
        "values = []\n",
        "\n",
        "# Extract data from the links dictionary\n",
        "links_data = json_data['links']\n",
        "\n",
        "# Loop through each key-value pair in the links dictionary\n",
        "for key, value in links_data.items():\n",
        "    if key.startswith('source'):\n",
        "        # Extract source index from value list\n",
        "        source_index = value[0]\n",
        "        \n",
        "        # Extract target index using corresponding target key\n",
        "        target_key = f\"target{key[6:]}\"\n",
        "        target_index = links_data[target_key][0]\n",
        "        \n",
        "        # Extract value count using corresponding value key\n",
        "        value_key = f\"value{key[6:]}\"\n",
        "        value_count = links_data[value_key][0]['count']\n",
        "        \n",
        "        # Append source, target, and value to their respective lists\n",
        "        sources.append(source_index)\n",
        "        targets.append(target_index)\n",
        "        values.append(value_count)\n",
        "\n",
        "nodes = json_data['nodes']\n",
        "\n",
        "# Extract the first column from 'nodes'\n",
        "first_column = [node['name'][0] for node in nodes]\n"
      ]
    },
    {
      "cell_type": "code",
      "execution_count": 76,
      "metadata": {},
      "outputs": [],
      "source": [
        "# Fix indexing of sources and targets\n",
        "sources = [source - 1 for source in sources]\n",
        "targets = [target - 1 for target in targets]"
      ]
    },
    {
      "cell_type": "code",
      "execution_count": 119,
      "metadata": {},
      "outputs": [],
      "source": [
        "hex_values = [\n",
        "    \"#1F77B4\",  # Blue\n",
        "    \"#FF7F0E\",  # Orange\n",
        "    \"#2CA02C\",  # Green\n",
        "    \"#D62728\",  # Red\n",
        "    \"#9467BD\",  # Purple\n",
        "    \"#8C564B\",  # Brown\n",
        "    \"#E377C2\",  # Pink\n",
        "    \"#7F7F7F\",  # Gray\n",
        "    \"#BEBD34\",  # Olive\n",
        "    \"#8580ba\",  # Ward 1\n",
        "    \"#ef9556\",  # Ward 2\n",
        "    \"#bdc272\",  # Ward 3\n",
        "    \"#ffa9b6\",  # Ward 5\n",
        "    \"#2ee5a3\",  # Ward 6\n",
        "    \"#f1fb79\",  # Ward 7\n",
        "    \"#adaeae\",  # Ward 8\n",
        "    \"#88c5cd\"   # Ward 4\n",
        "]\n",
        "\n",
        "link_colors = [hex_values[source] for source in sources]"
      ]
    },
    {
      "cell_type": "code",
      "execution_count": 134,
      "metadata": {},
      "outputs": [
        {
          "data": {
            "application/vnd.plotly.v1+json": {
              "config": {
                "plotlyServerURL": "https://plot.ly"
              },
              "data": [
                {
                  "link": {
                    "color": [
                      "#1F77B4",
                      "#1F77B4",
                      "#1F77B4",
                      "#1F77B4",
                      "#1F77B4",
                      "#1F77B4",
                      "#1F77B4",
                      "#FF7F0E",
                      "#FF7F0E",
                      "#FF7F0E",
                      "#FF7F0E",
                      "#FF7F0E",
                      "#FF7F0E",
                      "#FF7F0E",
                      "#FF7F0E",
                      "#2CA02C",
                      "#2CA02C",
                      "#2CA02C",
                      "#2CA02C",
                      "#2CA02C",
                      "#2CA02C",
                      "#2CA02C",
                      "#2CA02C",
                      "#D62728",
                      "#D62728",
                      "#D62728",
                      "#D62728",
                      "#D62728",
                      "#D62728",
                      "#D62728",
                      "#D62728",
                      "#9467BD",
                      "#9467BD",
                      "#9467BD",
                      "#9467BD",
                      "#9467BD",
                      "#9467BD",
                      "#9467BD",
                      "#9467BD",
                      "#8C564B",
                      "#8C564B",
                      "#8C564B",
                      "#8C564B",
                      "#8C564B",
                      "#8C564B",
                      "#8C564B",
                      "#8C564B",
                      "#E377C2",
                      "#E377C2",
                      "#E377C2",
                      "#E377C2",
                      "#E377C2",
                      "#E377C2",
                      "#E377C2",
                      "#E377C2",
                      "#7F7F7F",
                      "#7F7F7F",
                      "#7F7F7F",
                      "#7F7F7F",
                      "#7F7F7F",
                      "#7F7F7F",
                      "#7F7F7F",
                      "#7F7F7F",
                      "#BEBD34",
                      "#BEBD34",
                      "#BEBD34",
                      "#BEBD34",
                      "#BEBD34",
                      "#BEBD34",
                      "#BEBD34",
                      "#BEBD34"
                    ],
                    "hovertemplate": "%{source.label} → %{target.label}: Total cases",
                    "source": [
                      0,
                      0,
                      0,
                      0,
                      0,
                      0,
                      0,
                      1,
                      1,
                      1,
                      1,
                      1,
                      1,
                      1,
                      1,
                      2,
                      2,
                      2,
                      2,
                      2,
                      2,
                      2,
                      2,
                      3,
                      3,
                      3,
                      3,
                      3,
                      3,
                      3,
                      3,
                      4,
                      4,
                      4,
                      4,
                      4,
                      4,
                      4,
                      4,
                      5,
                      5,
                      5,
                      5,
                      5,
                      5,
                      5,
                      5,
                      6,
                      6,
                      6,
                      6,
                      6,
                      6,
                      6,
                      6,
                      7,
                      7,
                      7,
                      7,
                      7,
                      7,
                      7,
                      7,
                      8,
                      8,
                      8,
                      8,
                      8,
                      8,
                      8,
                      8
                    ],
                    "target": [
                      9,
                      10,
                      11,
                      12,
                      13,
                      14,
                      15,
                      9,
                      10,
                      11,
                      16,
                      12,
                      13,
                      14,
                      15,
                      9,
                      10,
                      11,
                      16,
                      12,
                      13,
                      14,
                      15,
                      9,
                      10,
                      11,
                      16,
                      12,
                      13,
                      14,
                      15,
                      9,
                      10,
                      11,
                      16,
                      12,
                      13,
                      14,
                      15,
                      9,
                      10,
                      11,
                      16,
                      12,
                      13,
                      14,
                      15,
                      9,
                      10,
                      11,
                      16,
                      12,
                      13,
                      14,
                      15,
                      9,
                      10,
                      11,
                      16,
                      12,
                      13,
                      14,
                      15,
                      9,
                      10,
                      11,
                      16,
                      12,
                      13,
                      14,
                      15
                    ],
                    "value": [
                      3,
                      7,
                      2,
                      8,
                      3,
                      7,
                      10,
                      702,
                      554,
                      131,
                      427,
                      1306,
                      580,
                      1820,
                      2126,
                      707,
                      1095,
                      385,
                      470,
                      1147,
                      657,
                      766,
                      803,
                      85,
                      38,
                      12,
                      60,
                      137,
                      77,
                      268,
                      385,
                      2278,
                      2001,
                      589,
                      1811,
                      3612,
                      2738,
                      3762,
                      2653,
                      1809,
                      1270,
                      227,
                      969,
                      1896,
                      1397,
                      2403,
                      1837,
                      91,
                      121,
                      43,
                      61,
                      139,
                      133,
                      173,
                      178,
                      6838,
                      8051,
                      2938,
                      5142,
                      7373,
                      5344,
                      4560,
                      2936,
                      9237,
                      14647,
                      4227,
                      4961,
                      8578,
                      8974,
                      6214,
                      4567
                    ]
                  },
                  "node": {
                    "color": [
                      "#1F77B4",
                      "#FF7F0E",
                      "#2CA02C",
                      "#D62728",
                      "#9467BD",
                      "#8C564B",
                      "#E377C2",
                      "#7F7F7F",
                      "#BEBD34",
                      "#8580ba",
                      "#ef9556",
                      "#bdc272",
                      "#ffa9b6",
                      "#2ee5a3",
                      "#f1fb79",
                      "#adaeae",
                      "#88c5cd"
                    ],
                    "hovertemplate": "%{label} Total Cases",
                    "label": [
                      "ARSON",
                      "ASSAULT W/DANGEROUS WEAPON",
                      "BURGLARY",
                      "HOMICIDE",
                      "MOTOR VEHICLE THEFT",
                      "ROBBERY",
                      "SEX ABUSE",
                      "THEFT F/AUTO",
                      "THEFT/OTHER",
                      "Ward 1: <br>(e.g./ Adams Morgan, Columbia Heights, Mount Pleasant)",
                      "Ward 2: <br>(e.g./ Downtown, Georgetown, Logan Circle)",
                      "Ward 3: <br>(e.g./ Adams Morgan, Columbia Heights, Mount Pleasant)",
                      "Ward 5: <br>(e.g./ Brookland, Eckington, Fort Totten)",
                      "Ward 6: <br>(e.g./ Capitol Hill, Penn Quarter, NoMa)",
                      "Ward 7: <br>(e.g./ Benning, Hillcrest, Lincoln Heights)",
                      "Ward 8: <br>(e.g./ Anacostia, Congress Heights, Woodland)",
                      "Ward 4: <br>(e.g./ Brightwood, Manor Park, Takoma)"
                    ],
                    "line": {
                      "color": "black",
                      "width": 0.5
                    },
                    "pad": 15,
                    "thickness": 20
                  },
                  "type": "sankey"
                }
              ],
              "layout": {
                "font": {
                  "size": 10
                },
                "images": [
                  {
                    "layer": "above",
                    "opacity": 0.8,
                    "sizex": 1,
                    "sizey": 1,
                    "source": "./DC_Ward_Map_2020s.svg.png",
                    "x": 1,
                    "xanchor": "left",
                    "xref": "paper",
                    "y": 0.5,
                    "yanchor": "middle",
                    "yref": "paper"
                  }
                ],
                "margin": {
                  "b": 50,
                  "l": 100,
                  "r": 300,
                  "t": 50
                },
                "template": {
                  "data": {
                    "bar": [
                      {
                        "error_x": {
                          "color": "#2a3f5f"
                        },
                        "error_y": {
                          "color": "#2a3f5f"
                        },
                        "marker": {
                          "line": {
                            "color": "#E5ECF6",
                            "width": 0.5
                          },
                          "pattern": {
                            "fillmode": "overlay",
                            "size": 10,
                            "solidity": 0.2
                          }
                        },
                        "type": "bar"
                      }
                    ],
                    "barpolar": [
                      {
                        "marker": {
                          "line": {
                            "color": "#E5ECF6",
                            "width": 0.5
                          },
                          "pattern": {
                            "fillmode": "overlay",
                            "size": 10,
                            "solidity": 0.2
                          }
                        },
                        "type": "barpolar"
                      }
                    ],
                    "carpet": [
                      {
                        "aaxis": {
                          "endlinecolor": "#2a3f5f",
                          "gridcolor": "white",
                          "linecolor": "white",
                          "minorgridcolor": "white",
                          "startlinecolor": "#2a3f5f"
                        },
                        "baxis": {
                          "endlinecolor": "#2a3f5f",
                          "gridcolor": "white",
                          "linecolor": "white",
                          "minorgridcolor": "white",
                          "startlinecolor": "#2a3f5f"
                        },
                        "type": "carpet"
                      }
                    ],
                    "choropleth": [
                      {
                        "colorbar": {
                          "outlinewidth": 0,
                          "ticks": ""
                        },
                        "type": "choropleth"
                      }
                    ],
                    "contour": [
                      {
                        "colorbar": {
                          "outlinewidth": 0,
                          "ticks": ""
                        },
                        "colorscale": [
                          [
                            0,
                            "#0d0887"
                          ],
                          [
                            0.1111111111111111,
                            "#46039f"
                          ],
                          [
                            0.2222222222222222,
                            "#7201a8"
                          ],
                          [
                            0.3333333333333333,
                            "#9c179e"
                          ],
                          [
                            0.4444444444444444,
                            "#bd3786"
                          ],
                          [
                            0.5555555555555556,
                            "#d8576b"
                          ],
                          [
                            0.6666666666666666,
                            "#ed7953"
                          ],
                          [
                            0.7777777777777778,
                            "#fb9f3a"
                          ],
                          [
                            0.8888888888888888,
                            "#fdca26"
                          ],
                          [
                            1,
                            "#f0f921"
                          ]
                        ],
                        "type": "contour"
                      }
                    ],
                    "contourcarpet": [
                      {
                        "colorbar": {
                          "outlinewidth": 0,
                          "ticks": ""
                        },
                        "type": "contourcarpet"
                      }
                    ],
                    "heatmap": [
                      {
                        "colorbar": {
                          "outlinewidth": 0,
                          "ticks": ""
                        },
                        "colorscale": [
                          [
                            0,
                            "#0d0887"
                          ],
                          [
                            0.1111111111111111,
                            "#46039f"
                          ],
                          [
                            0.2222222222222222,
                            "#7201a8"
                          ],
                          [
                            0.3333333333333333,
                            "#9c179e"
                          ],
                          [
                            0.4444444444444444,
                            "#bd3786"
                          ],
                          [
                            0.5555555555555556,
                            "#d8576b"
                          ],
                          [
                            0.6666666666666666,
                            "#ed7953"
                          ],
                          [
                            0.7777777777777778,
                            "#fb9f3a"
                          ],
                          [
                            0.8888888888888888,
                            "#fdca26"
                          ],
                          [
                            1,
                            "#f0f921"
                          ]
                        ],
                        "type": "heatmap"
                      }
                    ],
                    "heatmapgl": [
                      {
                        "colorbar": {
                          "outlinewidth": 0,
                          "ticks": ""
                        },
                        "colorscale": [
                          [
                            0,
                            "#0d0887"
                          ],
                          [
                            0.1111111111111111,
                            "#46039f"
                          ],
                          [
                            0.2222222222222222,
                            "#7201a8"
                          ],
                          [
                            0.3333333333333333,
                            "#9c179e"
                          ],
                          [
                            0.4444444444444444,
                            "#bd3786"
                          ],
                          [
                            0.5555555555555556,
                            "#d8576b"
                          ],
                          [
                            0.6666666666666666,
                            "#ed7953"
                          ],
                          [
                            0.7777777777777778,
                            "#fb9f3a"
                          ],
                          [
                            0.8888888888888888,
                            "#fdca26"
                          ],
                          [
                            1,
                            "#f0f921"
                          ]
                        ],
                        "type": "heatmapgl"
                      }
                    ],
                    "histogram": [
                      {
                        "marker": {
                          "pattern": {
                            "fillmode": "overlay",
                            "size": 10,
                            "solidity": 0.2
                          }
                        },
                        "type": "histogram"
                      }
                    ],
                    "histogram2d": [
                      {
                        "colorbar": {
                          "outlinewidth": 0,
                          "ticks": ""
                        },
                        "colorscale": [
                          [
                            0,
                            "#0d0887"
                          ],
                          [
                            0.1111111111111111,
                            "#46039f"
                          ],
                          [
                            0.2222222222222222,
                            "#7201a8"
                          ],
                          [
                            0.3333333333333333,
                            "#9c179e"
                          ],
                          [
                            0.4444444444444444,
                            "#bd3786"
                          ],
                          [
                            0.5555555555555556,
                            "#d8576b"
                          ],
                          [
                            0.6666666666666666,
                            "#ed7953"
                          ],
                          [
                            0.7777777777777778,
                            "#fb9f3a"
                          ],
                          [
                            0.8888888888888888,
                            "#fdca26"
                          ],
                          [
                            1,
                            "#f0f921"
                          ]
                        ],
                        "type": "histogram2d"
                      }
                    ],
                    "histogram2dcontour": [
                      {
                        "colorbar": {
                          "outlinewidth": 0,
                          "ticks": ""
                        },
                        "colorscale": [
                          [
                            0,
                            "#0d0887"
                          ],
                          [
                            0.1111111111111111,
                            "#46039f"
                          ],
                          [
                            0.2222222222222222,
                            "#7201a8"
                          ],
                          [
                            0.3333333333333333,
                            "#9c179e"
                          ],
                          [
                            0.4444444444444444,
                            "#bd3786"
                          ],
                          [
                            0.5555555555555556,
                            "#d8576b"
                          ],
                          [
                            0.6666666666666666,
                            "#ed7953"
                          ],
                          [
                            0.7777777777777778,
                            "#fb9f3a"
                          ],
                          [
                            0.8888888888888888,
                            "#fdca26"
                          ],
                          [
                            1,
                            "#f0f921"
                          ]
                        ],
                        "type": "histogram2dcontour"
                      }
                    ],
                    "mesh3d": [
                      {
                        "colorbar": {
                          "outlinewidth": 0,
                          "ticks": ""
                        },
                        "type": "mesh3d"
                      }
                    ],
                    "parcoords": [
                      {
                        "line": {
                          "colorbar": {
                            "outlinewidth": 0,
                            "ticks": ""
                          }
                        },
                        "type": "parcoords"
                      }
                    ],
                    "pie": [
                      {
                        "automargin": true,
                        "type": "pie"
                      }
                    ],
                    "scatter": [
                      {
                        "fillpattern": {
                          "fillmode": "overlay",
                          "size": 10,
                          "solidity": 0.2
                        },
                        "type": "scatter"
                      }
                    ],
                    "scatter3d": [
                      {
                        "line": {
                          "colorbar": {
                            "outlinewidth": 0,
                            "ticks": ""
                          }
                        },
                        "marker": {
                          "colorbar": {
                            "outlinewidth": 0,
                            "ticks": ""
                          }
                        },
                        "type": "scatter3d"
                      }
                    ],
                    "scattercarpet": [
                      {
                        "marker": {
                          "colorbar": {
                            "outlinewidth": 0,
                            "ticks": ""
                          }
                        },
                        "type": "scattercarpet"
                      }
                    ],
                    "scattergeo": [
                      {
                        "marker": {
                          "colorbar": {
                            "outlinewidth": 0,
                            "ticks": ""
                          }
                        },
                        "type": "scattergeo"
                      }
                    ],
                    "scattergl": [
                      {
                        "marker": {
                          "colorbar": {
                            "outlinewidth": 0,
                            "ticks": ""
                          }
                        },
                        "type": "scattergl"
                      }
                    ],
                    "scattermapbox": [
                      {
                        "marker": {
                          "colorbar": {
                            "outlinewidth": 0,
                            "ticks": ""
                          }
                        },
                        "type": "scattermapbox"
                      }
                    ],
                    "scatterpolar": [
                      {
                        "marker": {
                          "colorbar": {
                            "outlinewidth": 0,
                            "ticks": ""
                          }
                        },
                        "type": "scatterpolar"
                      }
                    ],
                    "scatterpolargl": [
                      {
                        "marker": {
                          "colorbar": {
                            "outlinewidth": 0,
                            "ticks": ""
                          }
                        },
                        "type": "scatterpolargl"
                      }
                    ],
                    "scatterternary": [
                      {
                        "marker": {
                          "colorbar": {
                            "outlinewidth": 0,
                            "ticks": ""
                          }
                        },
                        "type": "scatterternary"
                      }
                    ],
                    "surface": [
                      {
                        "colorbar": {
                          "outlinewidth": 0,
                          "ticks": ""
                        },
                        "colorscale": [
                          [
                            0,
                            "#0d0887"
                          ],
                          [
                            0.1111111111111111,
                            "#46039f"
                          ],
                          [
                            0.2222222222222222,
                            "#7201a8"
                          ],
                          [
                            0.3333333333333333,
                            "#9c179e"
                          ],
                          [
                            0.4444444444444444,
                            "#bd3786"
                          ],
                          [
                            0.5555555555555556,
                            "#d8576b"
                          ],
                          [
                            0.6666666666666666,
                            "#ed7953"
                          ],
                          [
                            0.7777777777777778,
                            "#fb9f3a"
                          ],
                          [
                            0.8888888888888888,
                            "#fdca26"
                          ],
                          [
                            1,
                            "#f0f921"
                          ]
                        ],
                        "type": "surface"
                      }
                    ],
                    "table": [
                      {
                        "cells": {
                          "fill": {
                            "color": "#EBF0F8"
                          },
                          "line": {
                            "color": "white"
                          }
                        },
                        "header": {
                          "fill": {
                            "color": "#C8D4E3"
                          },
                          "line": {
                            "color": "white"
                          }
                        },
                        "type": "table"
                      }
                    ]
                  },
                  "layout": {
                    "annotationdefaults": {
                      "arrowcolor": "#2a3f5f",
                      "arrowhead": 0,
                      "arrowwidth": 1
                    },
                    "autotypenumbers": "strict",
                    "coloraxis": {
                      "colorbar": {
                        "outlinewidth": 0,
                        "ticks": ""
                      }
                    },
                    "colorscale": {
                      "diverging": [
                        [
                          0,
                          "#8e0152"
                        ],
                        [
                          0.1,
                          "#c51b7d"
                        ],
                        [
                          0.2,
                          "#de77ae"
                        ],
                        [
                          0.3,
                          "#f1b6da"
                        ],
                        [
                          0.4,
                          "#fde0ef"
                        ],
                        [
                          0.5,
                          "#f7f7f7"
                        ],
                        [
                          0.6,
                          "#e6f5d0"
                        ],
                        [
                          0.7,
                          "#b8e186"
                        ],
                        [
                          0.8,
                          "#7fbc41"
                        ],
                        [
                          0.9,
                          "#4d9221"
                        ],
                        [
                          1,
                          "#276419"
                        ]
                      ],
                      "sequential": [
                        [
                          0,
                          "#0d0887"
                        ],
                        [
                          0.1111111111111111,
                          "#46039f"
                        ],
                        [
                          0.2222222222222222,
                          "#7201a8"
                        ],
                        [
                          0.3333333333333333,
                          "#9c179e"
                        ],
                        [
                          0.4444444444444444,
                          "#bd3786"
                        ],
                        [
                          0.5555555555555556,
                          "#d8576b"
                        ],
                        [
                          0.6666666666666666,
                          "#ed7953"
                        ],
                        [
                          0.7777777777777778,
                          "#fb9f3a"
                        ],
                        [
                          0.8888888888888888,
                          "#fdca26"
                        ],
                        [
                          1,
                          "#f0f921"
                        ]
                      ],
                      "sequentialminus": [
                        [
                          0,
                          "#0d0887"
                        ],
                        [
                          0.1111111111111111,
                          "#46039f"
                        ],
                        [
                          0.2222222222222222,
                          "#7201a8"
                        ],
                        [
                          0.3333333333333333,
                          "#9c179e"
                        ],
                        [
                          0.4444444444444444,
                          "#bd3786"
                        ],
                        [
                          0.5555555555555556,
                          "#d8576b"
                        ],
                        [
                          0.6666666666666666,
                          "#ed7953"
                        ],
                        [
                          0.7777777777777778,
                          "#fb9f3a"
                        ],
                        [
                          0.8888888888888888,
                          "#fdca26"
                        ],
                        [
                          1,
                          "#f0f921"
                        ]
                      ]
                    },
                    "colorway": [
                      "#636efa",
                      "#EF553B",
                      "#00cc96",
                      "#ab63fa",
                      "#FFA15A",
                      "#19d3f3",
                      "#FF6692",
                      "#B6E880",
                      "#FF97FF",
                      "#FECB52"
                    ],
                    "font": {
                      "color": "#2a3f5f"
                    },
                    "geo": {
                      "bgcolor": "white",
                      "lakecolor": "white",
                      "landcolor": "#E5ECF6",
                      "showlakes": true,
                      "showland": true,
                      "subunitcolor": "white"
                    },
                    "hoverlabel": {
                      "align": "left"
                    },
                    "hovermode": "closest",
                    "mapbox": {
                      "style": "light"
                    },
                    "paper_bgcolor": "white",
                    "plot_bgcolor": "#E5ECF6",
                    "polar": {
                      "angularaxis": {
                        "gridcolor": "white",
                        "linecolor": "white",
                        "ticks": ""
                      },
                      "bgcolor": "#E5ECF6",
                      "radialaxis": {
                        "gridcolor": "white",
                        "linecolor": "white",
                        "ticks": ""
                      }
                    },
                    "scene": {
                      "xaxis": {
                        "backgroundcolor": "#E5ECF6",
                        "gridcolor": "white",
                        "gridwidth": 2,
                        "linecolor": "white",
                        "showbackground": true,
                        "ticks": "",
                        "zerolinecolor": "white"
                      },
                      "yaxis": {
                        "backgroundcolor": "#E5ECF6",
                        "gridcolor": "white",
                        "gridwidth": 2,
                        "linecolor": "white",
                        "showbackground": true,
                        "ticks": "",
                        "zerolinecolor": "white"
                      },
                      "zaxis": {
                        "backgroundcolor": "#E5ECF6",
                        "gridcolor": "white",
                        "gridwidth": 2,
                        "linecolor": "white",
                        "showbackground": true,
                        "ticks": "",
                        "zerolinecolor": "white"
                      }
                    },
                    "shapedefaults": {
                      "line": {
                        "color": "#2a3f5f"
                      }
                    },
                    "ternary": {
                      "aaxis": {
                        "gridcolor": "white",
                        "linecolor": "white",
                        "ticks": ""
                      },
                      "baxis": {
                        "gridcolor": "white",
                        "linecolor": "white",
                        "ticks": ""
                      },
                      "bgcolor": "#E5ECF6",
                      "caxis": {
                        "gridcolor": "white",
                        "linecolor": "white",
                        "ticks": ""
                      }
                    },
                    "title": {
                      "x": 0.05
                    },
                    "xaxis": {
                      "automargin": true,
                      "gridcolor": "white",
                      "linecolor": "white",
                      "ticks": "",
                      "title": {
                        "standoff": 15
                      },
                      "zerolinecolor": "white",
                      "zerolinewidth": 2
                    },
                    "yaxis": {
                      "automargin": true,
                      "gridcolor": "white",
                      "linecolor": "white",
                      "ticks": "",
                      "title": {
                        "standoff": 15
                      },
                      "zerolinecolor": "white",
                      "zerolinewidth": 2
                    }
                  }
                },
                "title": {
                  "font": {
                    "family": "Arial",
                    "size": 16
                  },
                  "text": "Sankey Diagram of Cases by Ward in Washington D.C."
                }
              }
            },
            "text/html": [
              "<div>                            <div id=\"39f6eec9-d52f-4338-a997-72ac8545aa7c\" class=\"plotly-graph-div\" style=\"height:525px; width:100%;\"></div>            <script type=\"text/javascript\">                require([\"plotly\"], function(Plotly) {                    window.PLOTLYENV=window.PLOTLYENV || {};                                    if (document.getElementById(\"39f6eec9-d52f-4338-a997-72ac8545aa7c\")) {                    Plotly.newPlot(                        \"39f6eec9-d52f-4338-a997-72ac8545aa7c\",                        [{\"link\":{\"color\":[\"#1F77B4\",\"#1F77B4\",\"#1F77B4\",\"#1F77B4\",\"#1F77B4\",\"#1F77B4\",\"#1F77B4\",\"#FF7F0E\",\"#FF7F0E\",\"#FF7F0E\",\"#FF7F0E\",\"#FF7F0E\",\"#FF7F0E\",\"#FF7F0E\",\"#FF7F0E\",\"#2CA02C\",\"#2CA02C\",\"#2CA02C\",\"#2CA02C\",\"#2CA02C\",\"#2CA02C\",\"#2CA02C\",\"#2CA02C\",\"#D62728\",\"#D62728\",\"#D62728\",\"#D62728\",\"#D62728\",\"#D62728\",\"#D62728\",\"#D62728\",\"#9467BD\",\"#9467BD\",\"#9467BD\",\"#9467BD\",\"#9467BD\",\"#9467BD\",\"#9467BD\",\"#9467BD\",\"#8C564B\",\"#8C564B\",\"#8C564B\",\"#8C564B\",\"#8C564B\",\"#8C564B\",\"#8C564B\",\"#8C564B\",\"#E377C2\",\"#E377C2\",\"#E377C2\",\"#E377C2\",\"#E377C2\",\"#E377C2\",\"#E377C2\",\"#E377C2\",\"#7F7F7F\",\"#7F7F7F\",\"#7F7F7F\",\"#7F7F7F\",\"#7F7F7F\",\"#7F7F7F\",\"#7F7F7F\",\"#7F7F7F\",\"#BEBD34\",\"#BEBD34\",\"#BEBD34\",\"#BEBD34\",\"#BEBD34\",\"#BEBD34\",\"#BEBD34\",\"#BEBD34\"],\"hovertemplate\":\"%{source.label} \\u2192 %{target.label}: Total cases\",\"source\":[0,0,0,0,0,0,0,1,1,1,1,1,1,1,1,2,2,2,2,2,2,2,2,3,3,3,3,3,3,3,3,4,4,4,4,4,4,4,4,5,5,5,5,5,5,5,5,6,6,6,6,6,6,6,6,7,7,7,7,7,7,7,7,8,8,8,8,8,8,8,8],\"target\":[9,10,11,12,13,14,15,9,10,11,16,12,13,14,15,9,10,11,16,12,13,14,15,9,10,11,16,12,13,14,15,9,10,11,16,12,13,14,15,9,10,11,16,12,13,14,15,9,10,11,16,12,13,14,15,9,10,11,16,12,13,14,15,9,10,11,16,12,13,14,15],\"value\":[3,7,2,8,3,7,10,702,554,131,427,1306,580,1820,2126,707,1095,385,470,1147,657,766,803,85,38,12,60,137,77,268,385,2278,2001,589,1811,3612,2738,3762,2653,1809,1270,227,969,1896,1397,2403,1837,91,121,43,61,139,133,173,178,6838,8051,2938,5142,7373,5344,4560,2936,9237,14647,4227,4961,8578,8974,6214,4567]},\"node\":{\"color\":[\"#1F77B4\",\"#FF7F0E\",\"#2CA02C\",\"#D62728\",\"#9467BD\",\"#8C564B\",\"#E377C2\",\"#7F7F7F\",\"#BEBD34\",\"#8580ba\",\"#ef9556\",\"#bdc272\",\"#ffa9b6\",\"#2ee5a3\",\"#f1fb79\",\"#adaeae\",\"#88c5cd\"],\"hovertemplate\":\"%{label} Total Cases\",\"label\":[\"ARSON\",\"ASSAULT W/DANGEROUS WEAPON\",\"BURGLARY\",\"HOMICIDE\",\"MOTOR VEHICLE THEFT\",\"ROBBERY\",\"SEX ABUSE\",\"THEFT F/AUTO\",\"THEFT/OTHER\",\"Ward 1: <br>(e.g./ Adams Morgan, Columbia Heights, Mount Pleasant)\",\"Ward 2: <br>(e.g./ Downtown, Georgetown, Logan Circle)\",\"Ward 3: <br>(e.g./ Adams Morgan, Columbia Heights, Mount Pleasant)\",\"Ward 5: <br>(e.g./ Brookland, Eckington, Fort Totten)\",\"Ward 6: <br>(e.g./ Capitol Hill, Penn Quarter, NoMa)\",\"Ward 7: <br>(e.g./ Benning, Hillcrest, Lincoln Heights)\",\"Ward 8: <br>(e.g./ Anacostia, Congress Heights, Woodland)\",\"Ward 4: <br>(e.g./ Brightwood, Manor Park, Takoma)\"],\"line\":{\"color\":\"black\",\"width\":0.5},\"pad\":15,\"thickness\":20},\"type\":\"sankey\"}],                        {\"template\":{\"data\":{\"histogram2dcontour\":[{\"type\":\"histogram2dcontour\",\"colorbar\":{\"outlinewidth\":0,\"ticks\":\"\"},\"colorscale\":[[0.0,\"#0d0887\"],[0.1111111111111111,\"#46039f\"],[0.2222222222222222,\"#7201a8\"],[0.3333333333333333,\"#9c179e\"],[0.4444444444444444,\"#bd3786\"],[0.5555555555555556,\"#d8576b\"],[0.6666666666666666,\"#ed7953\"],[0.7777777777777778,\"#fb9f3a\"],[0.8888888888888888,\"#fdca26\"],[1.0,\"#f0f921\"]]}],\"choropleth\":[{\"type\":\"choropleth\",\"colorbar\":{\"outlinewidth\":0,\"ticks\":\"\"}}],\"histogram2d\":[{\"type\":\"histogram2d\",\"colorbar\":{\"outlinewidth\":0,\"ticks\":\"\"},\"colorscale\":[[0.0,\"#0d0887\"],[0.1111111111111111,\"#46039f\"],[0.2222222222222222,\"#7201a8\"],[0.3333333333333333,\"#9c179e\"],[0.4444444444444444,\"#bd3786\"],[0.5555555555555556,\"#d8576b\"],[0.6666666666666666,\"#ed7953\"],[0.7777777777777778,\"#fb9f3a\"],[0.8888888888888888,\"#fdca26\"],[1.0,\"#f0f921\"]]}],\"heatmap\":[{\"type\":\"heatmap\",\"colorbar\":{\"outlinewidth\":0,\"ticks\":\"\"},\"colorscale\":[[0.0,\"#0d0887\"],[0.1111111111111111,\"#46039f\"],[0.2222222222222222,\"#7201a8\"],[0.3333333333333333,\"#9c179e\"],[0.4444444444444444,\"#bd3786\"],[0.5555555555555556,\"#d8576b\"],[0.6666666666666666,\"#ed7953\"],[0.7777777777777778,\"#fb9f3a\"],[0.8888888888888888,\"#fdca26\"],[1.0,\"#f0f921\"]]}],\"heatmapgl\":[{\"type\":\"heatmapgl\",\"colorbar\":{\"outlinewidth\":0,\"ticks\":\"\"},\"colorscale\":[[0.0,\"#0d0887\"],[0.1111111111111111,\"#46039f\"],[0.2222222222222222,\"#7201a8\"],[0.3333333333333333,\"#9c179e\"],[0.4444444444444444,\"#bd3786\"],[0.5555555555555556,\"#d8576b\"],[0.6666666666666666,\"#ed7953\"],[0.7777777777777778,\"#fb9f3a\"],[0.8888888888888888,\"#fdca26\"],[1.0,\"#f0f921\"]]}],\"contourcarpet\":[{\"type\":\"contourcarpet\",\"colorbar\":{\"outlinewidth\":0,\"ticks\":\"\"}}],\"contour\":[{\"type\":\"contour\",\"colorbar\":{\"outlinewidth\":0,\"ticks\":\"\"},\"colorscale\":[[0.0,\"#0d0887\"],[0.1111111111111111,\"#46039f\"],[0.2222222222222222,\"#7201a8\"],[0.3333333333333333,\"#9c179e\"],[0.4444444444444444,\"#bd3786\"],[0.5555555555555556,\"#d8576b\"],[0.6666666666666666,\"#ed7953\"],[0.7777777777777778,\"#fb9f3a\"],[0.8888888888888888,\"#fdca26\"],[1.0,\"#f0f921\"]]}],\"surface\":[{\"type\":\"surface\",\"colorbar\":{\"outlinewidth\":0,\"ticks\":\"\"},\"colorscale\":[[0.0,\"#0d0887\"],[0.1111111111111111,\"#46039f\"],[0.2222222222222222,\"#7201a8\"],[0.3333333333333333,\"#9c179e\"],[0.4444444444444444,\"#bd3786\"],[0.5555555555555556,\"#d8576b\"],[0.6666666666666666,\"#ed7953\"],[0.7777777777777778,\"#fb9f3a\"],[0.8888888888888888,\"#fdca26\"],[1.0,\"#f0f921\"]]}],\"mesh3d\":[{\"type\":\"mesh3d\",\"colorbar\":{\"outlinewidth\":0,\"ticks\":\"\"}}],\"scatter\":[{\"fillpattern\":{\"fillmode\":\"overlay\",\"size\":10,\"solidity\":0.2},\"type\":\"scatter\"}],\"parcoords\":[{\"type\":\"parcoords\",\"line\":{\"colorbar\":{\"outlinewidth\":0,\"ticks\":\"\"}}}],\"scatterpolargl\":[{\"type\":\"scatterpolargl\",\"marker\":{\"colorbar\":{\"outlinewidth\":0,\"ticks\":\"\"}}}],\"bar\":[{\"error_x\":{\"color\":\"#2a3f5f\"},\"error_y\":{\"color\":\"#2a3f5f\"},\"marker\":{\"line\":{\"color\":\"#E5ECF6\",\"width\":0.5},\"pattern\":{\"fillmode\":\"overlay\",\"size\":10,\"solidity\":0.2}},\"type\":\"bar\"}],\"scattergeo\":[{\"type\":\"scattergeo\",\"marker\":{\"colorbar\":{\"outlinewidth\":0,\"ticks\":\"\"}}}],\"scatterpolar\":[{\"type\":\"scatterpolar\",\"marker\":{\"colorbar\":{\"outlinewidth\":0,\"ticks\":\"\"}}}],\"histogram\":[{\"marker\":{\"pattern\":{\"fillmode\":\"overlay\",\"size\":10,\"solidity\":0.2}},\"type\":\"histogram\"}],\"scattergl\":[{\"type\":\"scattergl\",\"marker\":{\"colorbar\":{\"outlinewidth\":0,\"ticks\":\"\"}}}],\"scatter3d\":[{\"type\":\"scatter3d\",\"line\":{\"colorbar\":{\"outlinewidth\":0,\"ticks\":\"\"}},\"marker\":{\"colorbar\":{\"outlinewidth\":0,\"ticks\":\"\"}}}],\"scattermapbox\":[{\"type\":\"scattermapbox\",\"marker\":{\"colorbar\":{\"outlinewidth\":0,\"ticks\":\"\"}}}],\"scatterternary\":[{\"type\":\"scatterternary\",\"marker\":{\"colorbar\":{\"outlinewidth\":0,\"ticks\":\"\"}}}],\"scattercarpet\":[{\"type\":\"scattercarpet\",\"marker\":{\"colorbar\":{\"outlinewidth\":0,\"ticks\":\"\"}}}],\"carpet\":[{\"aaxis\":{\"endlinecolor\":\"#2a3f5f\",\"gridcolor\":\"white\",\"linecolor\":\"white\",\"minorgridcolor\":\"white\",\"startlinecolor\":\"#2a3f5f\"},\"baxis\":{\"endlinecolor\":\"#2a3f5f\",\"gridcolor\":\"white\",\"linecolor\":\"white\",\"minorgridcolor\":\"white\",\"startlinecolor\":\"#2a3f5f\"},\"type\":\"carpet\"}],\"table\":[{\"cells\":{\"fill\":{\"color\":\"#EBF0F8\"},\"line\":{\"color\":\"white\"}},\"header\":{\"fill\":{\"color\":\"#C8D4E3\"},\"line\":{\"color\":\"white\"}},\"type\":\"table\"}],\"barpolar\":[{\"marker\":{\"line\":{\"color\":\"#E5ECF6\",\"width\":0.5},\"pattern\":{\"fillmode\":\"overlay\",\"size\":10,\"solidity\":0.2}},\"type\":\"barpolar\"}],\"pie\":[{\"automargin\":true,\"type\":\"pie\"}]},\"layout\":{\"autotypenumbers\":\"strict\",\"colorway\":[\"#636efa\",\"#EF553B\",\"#00cc96\",\"#ab63fa\",\"#FFA15A\",\"#19d3f3\",\"#FF6692\",\"#B6E880\",\"#FF97FF\",\"#FECB52\"],\"font\":{\"color\":\"#2a3f5f\"},\"hovermode\":\"closest\",\"hoverlabel\":{\"align\":\"left\"},\"paper_bgcolor\":\"white\",\"plot_bgcolor\":\"#E5ECF6\",\"polar\":{\"bgcolor\":\"#E5ECF6\",\"angularaxis\":{\"gridcolor\":\"white\",\"linecolor\":\"white\",\"ticks\":\"\"},\"radialaxis\":{\"gridcolor\":\"white\",\"linecolor\":\"white\",\"ticks\":\"\"}},\"ternary\":{\"bgcolor\":\"#E5ECF6\",\"aaxis\":{\"gridcolor\":\"white\",\"linecolor\":\"white\",\"ticks\":\"\"},\"baxis\":{\"gridcolor\":\"white\",\"linecolor\":\"white\",\"ticks\":\"\"},\"caxis\":{\"gridcolor\":\"white\",\"linecolor\":\"white\",\"ticks\":\"\"}},\"coloraxis\":{\"colorbar\":{\"outlinewidth\":0,\"ticks\":\"\"}},\"colorscale\":{\"sequential\":[[0.0,\"#0d0887\"],[0.1111111111111111,\"#46039f\"],[0.2222222222222222,\"#7201a8\"],[0.3333333333333333,\"#9c179e\"],[0.4444444444444444,\"#bd3786\"],[0.5555555555555556,\"#d8576b\"],[0.6666666666666666,\"#ed7953\"],[0.7777777777777778,\"#fb9f3a\"],[0.8888888888888888,\"#fdca26\"],[1.0,\"#f0f921\"]],\"sequentialminus\":[[0.0,\"#0d0887\"],[0.1111111111111111,\"#46039f\"],[0.2222222222222222,\"#7201a8\"],[0.3333333333333333,\"#9c179e\"],[0.4444444444444444,\"#bd3786\"],[0.5555555555555556,\"#d8576b\"],[0.6666666666666666,\"#ed7953\"],[0.7777777777777778,\"#fb9f3a\"],[0.8888888888888888,\"#fdca26\"],[1.0,\"#f0f921\"]],\"diverging\":[[0,\"#8e0152\"],[0.1,\"#c51b7d\"],[0.2,\"#de77ae\"],[0.3,\"#f1b6da\"],[0.4,\"#fde0ef\"],[0.5,\"#f7f7f7\"],[0.6,\"#e6f5d0\"],[0.7,\"#b8e186\"],[0.8,\"#7fbc41\"],[0.9,\"#4d9221\"],[1,\"#276419\"]]},\"xaxis\":{\"gridcolor\":\"white\",\"linecolor\":\"white\",\"ticks\":\"\",\"title\":{\"standoff\":15},\"zerolinecolor\":\"white\",\"automargin\":true,\"zerolinewidth\":2},\"yaxis\":{\"gridcolor\":\"white\",\"linecolor\":\"white\",\"ticks\":\"\",\"title\":{\"standoff\":15},\"zerolinecolor\":\"white\",\"automargin\":true,\"zerolinewidth\":2},\"scene\":{\"xaxis\":{\"backgroundcolor\":\"#E5ECF6\",\"gridcolor\":\"white\",\"linecolor\":\"white\",\"showbackground\":true,\"ticks\":\"\",\"zerolinecolor\":\"white\",\"gridwidth\":2},\"yaxis\":{\"backgroundcolor\":\"#E5ECF6\",\"gridcolor\":\"white\",\"linecolor\":\"white\",\"showbackground\":true,\"ticks\":\"\",\"zerolinecolor\":\"white\",\"gridwidth\":2},\"zaxis\":{\"backgroundcolor\":\"#E5ECF6\",\"gridcolor\":\"white\",\"linecolor\":\"white\",\"showbackground\":true,\"ticks\":\"\",\"zerolinecolor\":\"white\",\"gridwidth\":2}},\"shapedefaults\":{\"line\":{\"color\":\"#2a3f5f\"}},\"annotationdefaults\":{\"arrowcolor\":\"#2a3f5f\",\"arrowhead\":0,\"arrowwidth\":1},\"geo\":{\"bgcolor\":\"white\",\"landcolor\":\"#E5ECF6\",\"subunitcolor\":\"white\",\"showland\":true,\"showlakes\":true,\"lakecolor\":\"white\"},\"title\":{\"x\":0.05},\"mapbox\":{\"style\":\"light\"}}},\"title\":{\"text\":\"Sankey Diagram of Cases by Ward in Washington D.C.\",\"font\":{\"size\":16,\"family\":\"Arial\"}},\"font\":{\"size\":10},\"images\":[{\"layer\":\"above\",\"opacity\":0.8,\"sizex\":1,\"sizey\":1,\"source\":\"./DC_Ward_Map_2020s.svg.png\",\"x\":1,\"xanchor\":\"left\",\"xref\":\"paper\",\"y\":0.5,\"yanchor\":\"middle\",\"yref\":\"paper\"}],\"margin\":{\"l\":100,\"r\":300,\"t\":50,\"b\":50}},                        {\"responsive\": true}                    ).then(function(){\n",
              "                            \n",
              "var gd = document.getElementById('39f6eec9-d52f-4338-a997-72ac8545aa7c');\n",
              "var x = new MutationObserver(function (mutations, observer) {{\n",
              "        var display = window.getComputedStyle(gd).display;\n",
              "        if (!display || display === 'none') {{\n",
              "            console.log([gd, 'removed!']);\n",
              "            Plotly.purge(gd);\n",
              "            observer.disconnect();\n",
              "        }}\n",
              "}});\n",
              "\n",
              "// Listen for the removal of the full notebook cells\n",
              "var notebookContainer = gd.closest('#notebook-container');\n",
              "if (notebookContainer) {{\n",
              "    x.observe(notebookContainer, {childList: true});\n",
              "}}\n",
              "\n",
              "// Listen for the clearing of the current output cell\n",
              "var outputEl = gd.closest('.output');\n",
              "if (outputEl) {{\n",
              "    x.observe(outputEl, {childList: true});\n",
              "}}\n",
              "\n",
              "                        })                };                });            </script>        </div>"
            ]
          },
          "metadata": {},
          "output_type": "display_data"
        }
      ],
      "source": [
        "first_column[9] = \"Ward 1: <br>(e.g./ Adams Morgan, Columbia Heights, Mount Pleasant)\"\n",
        "first_column[10] = \"Ward 2: <br>(e.g./ Downtown, Georgetown, Logan Circle)\"\n",
        "first_column[11] = \"Ward 3: <br>(e.g./ Adams Morgan, Columbia Heights, Mount Pleasant)\"\n",
        "first_column[12] = \"Ward 5: <br>(e.g./ Brookland, Eckington, Fort Totten)\"\n",
        "first_column[13] = \"Ward 6: <br>(e.g./ Capitol Hill, Penn Quarter, NoMa)\"\n",
        "first_column[14] = \"Ward 7: <br>(e.g./ Benning, Hillcrest, Lincoln Heights)\"\n",
        "first_column[15] = \"Ward 8: <br>(e.g./ Anacostia, Congress Heights, Woodland)\"\n",
        "first_column[16] = \"Ward 4: <br>(e.g./ Brightwood, Manor Park, Takoma)\"\n",
        "\n",
        "\n",
        "fig = go.Figure(data=[go.Sankey(\n",
        "    node=dict(\n",
        "        pad=15,\n",
        "        thickness=20,\n",
        "        line=dict(color=\"black\", width=0.5),\n",
        "        label=first_column,\n",
        "        color=hex_values[:len(first_column)],  # Use the hex codes for the nodes\n",
        "        hovertemplate='%{label} Total Cases'\n",
        "    ),\n",
        "    link=dict(\n",
        "        source=sources,\n",
        "        target=targets,\n",
        "        value=values,\n",
        "        color=link_colors,  # Set the colors of the links\n",
        "        hovertemplate='%{source.label} → %{target.label}: Total cases'  # Add \"cases\" after the value label\n",
        "    ))])\n",
        "\n",
        "fig.update_layout(title_text=\"Customized Sankey Diagram\", font_size=10)\n",
        "\n",
        "# Add image to the layout\n",
        "fig.add_layout_image(\n",
        "    dict(\n",
        "        source=\"./DC_Ward_Map_2020s.svg.png\",  # Path to your image\n",
        "        xref=\"paper\",\n",
        "        yref=\"paper\",\n",
        "        x=1,  # Adjust the position as needed\n",
        "        y=0.5,\n",
        "        sizex=1,  # Adjust the size of the image\n",
        "        sizey=1,\n",
        "        xanchor=\"left\",\n",
        "        yanchor=\"middle\",\n",
        "        opacity=0.8,\n",
        "        layer=\"above\"\n",
        "    )\n",
        ")\n",
        "\n",
        "fig.update_layout(\n",
        "    title_text=\"Customized Sankey Diagram\",\n",
        "    font_size=10,\n",
        "    margin=dict(\n",
        "        l=100,  # Left margin\n",
        "        r=300,  # Right margin\n",
        "        t=50,  # Top margin\n",
        "        b=50   # Bottom margin\n",
        "    )\n",
        ")\n",
        "\n",
        "fig.show()"
      ]
    }
  ],
  "metadata": {
    "kernelspec": {
      "display_name": "Python 3 (ipykernel)",
      "language": "python",
      "name": "python3"
    },
    "language_info": {
      "codemirror_mode": {
        "name": "ipython",
        "version": 3
      },
      "file_extension": ".py",
      "mimetype": "text/x-python",
      "name": "python",
      "nbconvert_exporter": "python",
      "pygments_lexer": "ipython3",
      "version": "3.11.7"
    }
  },
  "nbformat": 4,
  "nbformat_minor": 4
}
